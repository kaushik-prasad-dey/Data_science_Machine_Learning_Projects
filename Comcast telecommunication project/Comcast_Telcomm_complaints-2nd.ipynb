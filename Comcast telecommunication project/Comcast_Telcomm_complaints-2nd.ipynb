{
  "cells": [
    {
      "cell_type": "markdown",
      "metadata": {
        "id": "ryOY8zE9_TqZ"
      },
      "source": [
        "# Comcast telecommunication Complaints Project "
      ]
    },
    {
      "cell_type": "markdown",
      "metadata": {
        "id": "K2aavzag_Tql"
      },
      "source": [
        "### Importing Libraries"
      ]
    },
    {
      "cell_type": "code",
      "execution_count": 4,
      "metadata": {
        "id": "SvsnHBmy_Tqm"
      },
      "outputs": [],
      "source": [
        "import numpy as np\n",
        "import pandas as pd\n",
        "import matplotlib.pyplot as plt\n",
        "import seaborn as sns\n",
        "%matplotlib inline\n",
        "sns.set_style('darkgrid')"
      ]
    },
    {
      "cell_type": "markdown",
      "metadata": {
        "id": "5eKfICX7_Tqq"
      },
      "source": [
        "### Loading Dataset"
      ]
    },
    {
      "cell_type": "code",
      "execution_count": 5,
      "metadata": {
        "id": "AUl_Qcth_Tqr"
      },
      "outputs": [],
      "source": [
        "df = pd.read_csv(\"/content/Comcast_telecom_complaints_data.csv\")"
      ]
    },
    {
      "cell_type": "code",
      "execution_count": 6,
      "metadata": {
        "colab": {
          "base_uri": "https://localhost:8080/",
          "height": 528
        },
        "id": "2dUciU0T_Tqs",
        "outputId": "79c085be-f120-4c5f-f32d-87b92d758fbe"
      },
      "outputs": [
        {
          "output_type": "execute_result",
          "data": {
            "text/plain": [
              "  Ticket #                                 Customer Complaint      Date  \\\n",
              "0   250635                      Comcast Cable Internet Speeds  22-04-15   \n",
              "1   223441       Payment disappear - service got disconnected  04-08-15   \n",
              "2   242732                                  Speed and Service  18-04-15   \n",
              "3   277946  Comcast Imposed a New Usage Cap of 300GB that ...  05-07-15   \n",
              "4   307175         Comcast not working and no service to boot  26-05-15   \n",
              "\n",
              "  Date_month_year         Time        Received Via      City     State  \\\n",
              "0       22-Apr-15   3:53:50 PM  Customer Care Call  Abingdon  Maryland   \n",
              "1       04-Aug-15  10:22:56 AM            Internet   Acworth   Georgia   \n",
              "2       18-Apr-15   9:55:47 AM            Internet   Acworth   Georgia   \n",
              "3       05-Jul-15  11:59:35 AM            Internet   Acworth   Georgia   \n",
              "4       26-May-15   1:25:26 PM            Internet   Acworth   Georgia   \n",
              "\n",
              "   Zip code  Status Filing on Behalf of Someone  \n",
              "0     21009  Closed                          No  \n",
              "1     30102  Closed                          No  \n",
              "2     30101  Closed                         Yes  \n",
              "3     30101    Open                         Yes  \n",
              "4     30101  Solved                          No  "
            ],
            "text/html": [
              "\n",
              "  <div id=\"df-f27e8eae-1932-4c2e-bfbe-b836be655381\">\n",
              "    <div class=\"colab-df-container\">\n",
              "      <div>\n",
              "<style scoped>\n",
              "    .dataframe tbody tr th:only-of-type {\n",
              "        vertical-align: middle;\n",
              "    }\n",
              "\n",
              "    .dataframe tbody tr th {\n",
              "        vertical-align: top;\n",
              "    }\n",
              "\n",
              "    .dataframe thead th {\n",
              "        text-align: right;\n",
              "    }\n",
              "</style>\n",
              "<table border=\"1\" class=\"dataframe\">\n",
              "  <thead>\n",
              "    <tr style=\"text-align: right;\">\n",
              "      <th></th>\n",
              "      <th>Ticket #</th>\n",
              "      <th>Customer Complaint</th>\n",
              "      <th>Date</th>\n",
              "      <th>Date_month_year</th>\n",
              "      <th>Time</th>\n",
              "      <th>Received Via</th>\n",
              "      <th>City</th>\n",
              "      <th>State</th>\n",
              "      <th>Zip code</th>\n",
              "      <th>Status</th>\n",
              "      <th>Filing on Behalf of Someone</th>\n",
              "    </tr>\n",
              "  </thead>\n",
              "  <tbody>\n",
              "    <tr>\n",
              "      <th>0</th>\n",
              "      <td>250635</td>\n",
              "      <td>Comcast Cable Internet Speeds</td>\n",
              "      <td>22-04-15</td>\n",
              "      <td>22-Apr-15</td>\n",
              "      <td>3:53:50 PM</td>\n",
              "      <td>Customer Care Call</td>\n",
              "      <td>Abingdon</td>\n",
              "      <td>Maryland</td>\n",
              "      <td>21009</td>\n",
              "      <td>Closed</td>\n",
              "      <td>No</td>\n",
              "    </tr>\n",
              "    <tr>\n",
              "      <th>1</th>\n",
              "      <td>223441</td>\n",
              "      <td>Payment disappear - service got disconnected</td>\n",
              "      <td>04-08-15</td>\n",
              "      <td>04-Aug-15</td>\n",
              "      <td>10:22:56 AM</td>\n",
              "      <td>Internet</td>\n",
              "      <td>Acworth</td>\n",
              "      <td>Georgia</td>\n",
              "      <td>30102</td>\n",
              "      <td>Closed</td>\n",
              "      <td>No</td>\n",
              "    </tr>\n",
              "    <tr>\n",
              "      <th>2</th>\n",
              "      <td>242732</td>\n",
              "      <td>Speed and Service</td>\n",
              "      <td>18-04-15</td>\n",
              "      <td>18-Apr-15</td>\n",
              "      <td>9:55:47 AM</td>\n",
              "      <td>Internet</td>\n",
              "      <td>Acworth</td>\n",
              "      <td>Georgia</td>\n",
              "      <td>30101</td>\n",
              "      <td>Closed</td>\n",
              "      <td>Yes</td>\n",
              "    </tr>\n",
              "    <tr>\n",
              "      <th>3</th>\n",
              "      <td>277946</td>\n",
              "      <td>Comcast Imposed a New Usage Cap of 300GB that ...</td>\n",
              "      <td>05-07-15</td>\n",
              "      <td>05-Jul-15</td>\n",
              "      <td>11:59:35 AM</td>\n",
              "      <td>Internet</td>\n",
              "      <td>Acworth</td>\n",
              "      <td>Georgia</td>\n",
              "      <td>30101</td>\n",
              "      <td>Open</td>\n",
              "      <td>Yes</td>\n",
              "    </tr>\n",
              "    <tr>\n",
              "      <th>4</th>\n",
              "      <td>307175</td>\n",
              "      <td>Comcast not working and no service to boot</td>\n",
              "      <td>26-05-15</td>\n",
              "      <td>26-May-15</td>\n",
              "      <td>1:25:26 PM</td>\n",
              "      <td>Internet</td>\n",
              "      <td>Acworth</td>\n",
              "      <td>Georgia</td>\n",
              "      <td>30101</td>\n",
              "      <td>Solved</td>\n",
              "      <td>No</td>\n",
              "    </tr>\n",
              "  </tbody>\n",
              "</table>\n",
              "</div>\n",
              "      <button class=\"colab-df-convert\" onclick=\"convertToInteractive('df-f27e8eae-1932-4c2e-bfbe-b836be655381')\"\n",
              "              title=\"Convert this dataframe to an interactive table.\"\n",
              "              style=\"display:none;\">\n",
              "        \n",
              "  <svg xmlns=\"http://www.w3.org/2000/svg\" height=\"24px\"viewBox=\"0 0 24 24\"\n",
              "       width=\"24px\">\n",
              "    <path d=\"M0 0h24v24H0V0z\" fill=\"none\"/>\n",
              "    <path d=\"M18.56 5.44l.94 2.06.94-2.06 2.06-.94-2.06-.94-.94-2.06-.94 2.06-2.06.94zm-11 1L8.5 8.5l.94-2.06 2.06-.94-2.06-.94L8.5 2.5l-.94 2.06-2.06.94zm10 10l.94 2.06.94-2.06 2.06-.94-2.06-.94-.94-2.06-.94 2.06-2.06.94z\"/><path d=\"M17.41 7.96l-1.37-1.37c-.4-.4-.92-.59-1.43-.59-.52 0-1.04.2-1.43.59L10.3 9.45l-7.72 7.72c-.78.78-.78 2.05 0 2.83L4 21.41c.39.39.9.59 1.41.59.51 0 1.02-.2 1.41-.59l7.78-7.78 2.81-2.81c.8-.78.8-2.07 0-2.86zM5.41 20L4 18.59l7.72-7.72 1.47 1.35L5.41 20z\"/>\n",
              "  </svg>\n",
              "      </button>\n",
              "      \n",
              "  <style>\n",
              "    .colab-df-container {\n",
              "      display:flex;\n",
              "      flex-wrap:wrap;\n",
              "      gap: 12px;\n",
              "    }\n",
              "\n",
              "    .colab-df-convert {\n",
              "      background-color: #E8F0FE;\n",
              "      border: none;\n",
              "      border-radius: 50%;\n",
              "      cursor: pointer;\n",
              "      display: none;\n",
              "      fill: #1967D2;\n",
              "      height: 32px;\n",
              "      padding: 0 0 0 0;\n",
              "      width: 32px;\n",
              "    }\n",
              "\n",
              "    .colab-df-convert:hover {\n",
              "      background-color: #E2EBFA;\n",
              "      box-shadow: 0px 1px 2px rgba(60, 64, 67, 0.3), 0px 1px 3px 1px rgba(60, 64, 67, 0.15);\n",
              "      fill: #174EA6;\n",
              "    }\n",
              "\n",
              "    [theme=dark] .colab-df-convert {\n",
              "      background-color: #3B4455;\n",
              "      fill: #D2E3FC;\n",
              "    }\n",
              "\n",
              "    [theme=dark] .colab-df-convert:hover {\n",
              "      background-color: #434B5C;\n",
              "      box-shadow: 0px 1px 3px 1px rgba(0, 0, 0, 0.15);\n",
              "      filter: drop-shadow(0px 1px 2px rgba(0, 0, 0, 0.3));\n",
              "      fill: #FFFFFF;\n",
              "    }\n",
              "  </style>\n",
              "\n",
              "      <script>\n",
              "        const buttonEl =\n",
              "          document.querySelector('#df-f27e8eae-1932-4c2e-bfbe-b836be655381 button.colab-df-convert');\n",
              "        buttonEl.style.display =\n",
              "          google.colab.kernel.accessAllowed ? 'block' : 'none';\n",
              "\n",
              "        async function convertToInteractive(key) {\n",
              "          const element = document.querySelector('#df-f27e8eae-1932-4c2e-bfbe-b836be655381');\n",
              "          const dataTable =\n",
              "            await google.colab.kernel.invokeFunction('convertToInteractive',\n",
              "                                                     [key], {});\n",
              "          if (!dataTable) return;\n",
              "\n",
              "          const docLinkHtml = 'Like what you see? Visit the ' +\n",
              "            '<a target=\"_blank\" href=https://colab.research.google.com/notebooks/data_table.ipynb>data table notebook</a>'\n",
              "            + ' to learn more about interactive tables.';\n",
              "          element.innerHTML = '';\n",
              "          dataTable['output_type'] = 'display_data';\n",
              "          await google.colab.output.renderOutput(dataTable, element);\n",
              "          const docLink = document.createElement('div');\n",
              "          docLink.innerHTML = docLinkHtml;\n",
              "          element.appendChild(docLink);\n",
              "        }\n",
              "      </script>\n",
              "    </div>\n",
              "  </div>\n",
              "  "
            ]
          },
          "metadata": {},
          "execution_count": 6
        }
      ],
      "source": [
        "df.head()"
      ]
    },
    {
      "cell_type": "code",
      "execution_count": 7,
      "metadata": {
        "colab": {
          "base_uri": "https://localhost:8080/"
        },
        "id": "tqlB0Gh__Tqv",
        "outputId": "3e075622-3547-4616-f1b3-581b3604226d"
      },
      "outputs": [
        {
          "output_type": "stream",
          "name": "stdout",
          "text": [
            "Ticket #                       0\n",
            "Customer Complaint             0\n",
            "Date                           0\n",
            "Date_month_year                0\n",
            "Time                           0\n",
            "Received Via                   0\n",
            "City                           0\n",
            "State                          0\n",
            "Zip code                       0\n",
            "Status                         0\n",
            "Filing on Behalf of Someone    0\n",
            "dtype: int64\n"
          ]
        }
      ],
      "source": [
        "print(df.isnull().sum())"
      ]
    },
    {
      "cell_type": "markdown",
      "metadata": {
        "id": "MVtYIqpy_Tqw"
      },
      "source": [
        "##### There are no Nan values present in Dataset"
      ]
    },
    {
      "cell_type": "code",
      "execution_count": 8,
      "metadata": {
        "colab": {
          "base_uri": "https://localhost:8080/",
          "height": 562
        },
        "id": "Maln-X3J_Tqx",
        "outputId": "c353e7a8-5f5b-48cd-bab3-2f96b4f71bcb"
      },
      "outputs": [
        {
          "output_type": "execute_result",
          "data": {
            "text/plain": [
              "       Ticket # Customer Complaint      Date Date_month_year         Time  \\\n",
              "count      2224               2224      2224            2224         2224   \n",
              "unique     2224               1841        91              91         2190   \n",
              "top      250635            Comcast  24-06-15       24-Jun-15  12:41:14 PM   \n",
              "freq          1                 83       218             218            2   \n",
              "mean        NaN                NaN       NaN             NaN          NaN   \n",
              "std         NaN                NaN       NaN             NaN          NaN   \n",
              "min         NaN                NaN       NaN             NaN          NaN   \n",
              "25%         NaN                NaN       NaN             NaN          NaN   \n",
              "50%         NaN                NaN       NaN             NaN          NaN   \n",
              "75%         NaN                NaN       NaN             NaN          NaN   \n",
              "max         NaN                NaN       NaN             NaN          NaN   \n",
              "\n",
              "              Received Via     City    State      Zip code  Status  \\\n",
              "count                 2224     2224     2224   2224.000000    2224   \n",
              "unique                   2      928       43           NaN       4   \n",
              "top     Customer Care Call  Atlanta  Georgia           NaN  Solved   \n",
              "freq                  1119       63      288           NaN     973   \n",
              "mean                   NaN      NaN      NaN  47994.393435     NaN   \n",
              "std                    NaN      NaN      NaN  28885.279427     NaN   \n",
              "min                    NaN      NaN      NaN   1075.000000     NaN   \n",
              "25%                    NaN      NaN      NaN  30056.500000     NaN   \n",
              "50%                    NaN      NaN      NaN  37211.000000     NaN   \n",
              "75%                    NaN      NaN      NaN  77058.750000     NaN   \n",
              "max                    NaN      NaN      NaN  99223.000000     NaN   \n",
              "\n",
              "       Filing on Behalf of Someone  \n",
              "count                         2224  \n",
              "unique                           2  \n",
              "top                             No  \n",
              "freq                          2021  \n",
              "mean                           NaN  \n",
              "std                            NaN  \n",
              "min                            NaN  \n",
              "25%                            NaN  \n",
              "50%                            NaN  \n",
              "75%                            NaN  \n",
              "max                            NaN  "
            ],
            "text/html": [
              "\n",
              "  <div id=\"df-9b631c7c-0685-4be5-a4a0-f16fa4394cdd\">\n",
              "    <div class=\"colab-df-container\">\n",
              "      <div>\n",
              "<style scoped>\n",
              "    .dataframe tbody tr th:only-of-type {\n",
              "        vertical-align: middle;\n",
              "    }\n",
              "\n",
              "    .dataframe tbody tr th {\n",
              "        vertical-align: top;\n",
              "    }\n",
              "\n",
              "    .dataframe thead th {\n",
              "        text-align: right;\n",
              "    }\n",
              "</style>\n",
              "<table border=\"1\" class=\"dataframe\">\n",
              "  <thead>\n",
              "    <tr style=\"text-align: right;\">\n",
              "      <th></th>\n",
              "      <th>Ticket #</th>\n",
              "      <th>Customer Complaint</th>\n",
              "      <th>Date</th>\n",
              "      <th>Date_month_year</th>\n",
              "      <th>Time</th>\n",
              "      <th>Received Via</th>\n",
              "      <th>City</th>\n",
              "      <th>State</th>\n",
              "      <th>Zip code</th>\n",
              "      <th>Status</th>\n",
              "      <th>Filing on Behalf of Someone</th>\n",
              "    </tr>\n",
              "  </thead>\n",
              "  <tbody>\n",
              "    <tr>\n",
              "      <th>count</th>\n",
              "      <td>2224</td>\n",
              "      <td>2224</td>\n",
              "      <td>2224</td>\n",
              "      <td>2224</td>\n",
              "      <td>2224</td>\n",
              "      <td>2224</td>\n",
              "      <td>2224</td>\n",
              "      <td>2224</td>\n",
              "      <td>2224.000000</td>\n",
              "      <td>2224</td>\n",
              "      <td>2224</td>\n",
              "    </tr>\n",
              "    <tr>\n",
              "      <th>unique</th>\n",
              "      <td>2224</td>\n",
              "      <td>1841</td>\n",
              "      <td>91</td>\n",
              "      <td>91</td>\n",
              "      <td>2190</td>\n",
              "      <td>2</td>\n",
              "      <td>928</td>\n",
              "      <td>43</td>\n",
              "      <td>NaN</td>\n",
              "      <td>4</td>\n",
              "      <td>2</td>\n",
              "    </tr>\n",
              "    <tr>\n",
              "      <th>top</th>\n",
              "      <td>250635</td>\n",
              "      <td>Comcast</td>\n",
              "      <td>24-06-15</td>\n",
              "      <td>24-Jun-15</td>\n",
              "      <td>12:41:14 PM</td>\n",
              "      <td>Customer Care Call</td>\n",
              "      <td>Atlanta</td>\n",
              "      <td>Georgia</td>\n",
              "      <td>NaN</td>\n",
              "      <td>Solved</td>\n",
              "      <td>No</td>\n",
              "    </tr>\n",
              "    <tr>\n",
              "      <th>freq</th>\n",
              "      <td>1</td>\n",
              "      <td>83</td>\n",
              "      <td>218</td>\n",
              "      <td>218</td>\n",
              "      <td>2</td>\n",
              "      <td>1119</td>\n",
              "      <td>63</td>\n",
              "      <td>288</td>\n",
              "      <td>NaN</td>\n",
              "      <td>973</td>\n",
              "      <td>2021</td>\n",
              "    </tr>\n",
              "    <tr>\n",
              "      <th>mean</th>\n",
              "      <td>NaN</td>\n",
              "      <td>NaN</td>\n",
              "      <td>NaN</td>\n",
              "      <td>NaN</td>\n",
              "      <td>NaN</td>\n",
              "      <td>NaN</td>\n",
              "      <td>NaN</td>\n",
              "      <td>NaN</td>\n",
              "      <td>47994.393435</td>\n",
              "      <td>NaN</td>\n",
              "      <td>NaN</td>\n",
              "    </tr>\n",
              "    <tr>\n",
              "      <th>std</th>\n",
              "      <td>NaN</td>\n",
              "      <td>NaN</td>\n",
              "      <td>NaN</td>\n",
              "      <td>NaN</td>\n",
              "      <td>NaN</td>\n",
              "      <td>NaN</td>\n",
              "      <td>NaN</td>\n",
              "      <td>NaN</td>\n",
              "      <td>28885.279427</td>\n",
              "      <td>NaN</td>\n",
              "      <td>NaN</td>\n",
              "    </tr>\n",
              "    <tr>\n",
              "      <th>min</th>\n",
              "      <td>NaN</td>\n",
              "      <td>NaN</td>\n",
              "      <td>NaN</td>\n",
              "      <td>NaN</td>\n",
              "      <td>NaN</td>\n",
              "      <td>NaN</td>\n",
              "      <td>NaN</td>\n",
              "      <td>NaN</td>\n",
              "      <td>1075.000000</td>\n",
              "      <td>NaN</td>\n",
              "      <td>NaN</td>\n",
              "    </tr>\n",
              "    <tr>\n",
              "      <th>25%</th>\n",
              "      <td>NaN</td>\n",
              "      <td>NaN</td>\n",
              "      <td>NaN</td>\n",
              "      <td>NaN</td>\n",
              "      <td>NaN</td>\n",
              "      <td>NaN</td>\n",
              "      <td>NaN</td>\n",
              "      <td>NaN</td>\n",
              "      <td>30056.500000</td>\n",
              "      <td>NaN</td>\n",
              "      <td>NaN</td>\n",
              "    </tr>\n",
              "    <tr>\n",
              "      <th>50%</th>\n",
              "      <td>NaN</td>\n",
              "      <td>NaN</td>\n",
              "      <td>NaN</td>\n",
              "      <td>NaN</td>\n",
              "      <td>NaN</td>\n",
              "      <td>NaN</td>\n",
              "      <td>NaN</td>\n",
              "      <td>NaN</td>\n",
              "      <td>37211.000000</td>\n",
              "      <td>NaN</td>\n",
              "      <td>NaN</td>\n",
              "    </tr>\n",
              "    <tr>\n",
              "      <th>75%</th>\n",
              "      <td>NaN</td>\n",
              "      <td>NaN</td>\n",
              "      <td>NaN</td>\n",
              "      <td>NaN</td>\n",
              "      <td>NaN</td>\n",
              "      <td>NaN</td>\n",
              "      <td>NaN</td>\n",
              "      <td>NaN</td>\n",
              "      <td>77058.750000</td>\n",
              "      <td>NaN</td>\n",
              "      <td>NaN</td>\n",
              "    </tr>\n",
              "    <tr>\n",
              "      <th>max</th>\n",
              "      <td>NaN</td>\n",
              "      <td>NaN</td>\n",
              "      <td>NaN</td>\n",
              "      <td>NaN</td>\n",
              "      <td>NaN</td>\n",
              "      <td>NaN</td>\n",
              "      <td>NaN</td>\n",
              "      <td>NaN</td>\n",
              "      <td>99223.000000</td>\n",
              "      <td>NaN</td>\n",
              "      <td>NaN</td>\n",
              "    </tr>\n",
              "  </tbody>\n",
              "</table>\n",
              "</div>\n",
              "      <button class=\"colab-df-convert\" onclick=\"convertToInteractive('df-9b631c7c-0685-4be5-a4a0-f16fa4394cdd')\"\n",
              "              title=\"Convert this dataframe to an interactive table.\"\n",
              "              style=\"display:none;\">\n",
              "        \n",
              "  <svg xmlns=\"http://www.w3.org/2000/svg\" height=\"24px\"viewBox=\"0 0 24 24\"\n",
              "       width=\"24px\">\n",
              "    <path d=\"M0 0h24v24H0V0z\" fill=\"none\"/>\n",
              "    <path d=\"M18.56 5.44l.94 2.06.94-2.06 2.06-.94-2.06-.94-.94-2.06-.94 2.06-2.06.94zm-11 1L8.5 8.5l.94-2.06 2.06-.94-2.06-.94L8.5 2.5l-.94 2.06-2.06.94zm10 10l.94 2.06.94-2.06 2.06-.94-2.06-.94-.94-2.06-.94 2.06-2.06.94z\"/><path d=\"M17.41 7.96l-1.37-1.37c-.4-.4-.92-.59-1.43-.59-.52 0-1.04.2-1.43.59L10.3 9.45l-7.72 7.72c-.78.78-.78 2.05 0 2.83L4 21.41c.39.39.9.59 1.41.59.51 0 1.02-.2 1.41-.59l7.78-7.78 2.81-2.81c.8-.78.8-2.07 0-2.86zM5.41 20L4 18.59l7.72-7.72 1.47 1.35L5.41 20z\"/>\n",
              "  </svg>\n",
              "      </button>\n",
              "      \n",
              "  <style>\n",
              "    .colab-df-container {\n",
              "      display:flex;\n",
              "      flex-wrap:wrap;\n",
              "      gap: 12px;\n",
              "    }\n",
              "\n",
              "    .colab-df-convert {\n",
              "      background-color: #E8F0FE;\n",
              "      border: none;\n",
              "      border-radius: 50%;\n",
              "      cursor: pointer;\n",
              "      display: none;\n",
              "      fill: #1967D2;\n",
              "      height: 32px;\n",
              "      padding: 0 0 0 0;\n",
              "      width: 32px;\n",
              "    }\n",
              "\n",
              "    .colab-df-convert:hover {\n",
              "      background-color: #E2EBFA;\n",
              "      box-shadow: 0px 1px 2px rgba(60, 64, 67, 0.3), 0px 1px 3px 1px rgba(60, 64, 67, 0.15);\n",
              "      fill: #174EA6;\n",
              "    }\n",
              "\n",
              "    [theme=dark] .colab-df-convert {\n",
              "      background-color: #3B4455;\n",
              "      fill: #D2E3FC;\n",
              "    }\n",
              "\n",
              "    [theme=dark] .colab-df-convert:hover {\n",
              "      background-color: #434B5C;\n",
              "      box-shadow: 0px 1px 3px 1px rgba(0, 0, 0, 0.15);\n",
              "      filter: drop-shadow(0px 1px 2px rgba(0, 0, 0, 0.3));\n",
              "      fill: #FFFFFF;\n",
              "    }\n",
              "  </style>\n",
              "\n",
              "      <script>\n",
              "        const buttonEl =\n",
              "          document.querySelector('#df-9b631c7c-0685-4be5-a4a0-f16fa4394cdd button.colab-df-convert');\n",
              "        buttonEl.style.display =\n",
              "          google.colab.kernel.accessAllowed ? 'block' : 'none';\n",
              "\n",
              "        async function convertToInteractive(key) {\n",
              "          const element = document.querySelector('#df-9b631c7c-0685-4be5-a4a0-f16fa4394cdd');\n",
              "          const dataTable =\n",
              "            await google.colab.kernel.invokeFunction('convertToInteractive',\n",
              "                                                     [key], {});\n",
              "          if (!dataTable) return;\n",
              "\n",
              "          const docLinkHtml = 'Like what you see? Visit the ' +\n",
              "            '<a target=\"_blank\" href=https://colab.research.google.com/notebooks/data_table.ipynb>data table notebook</a>'\n",
              "            + ' to learn more about interactive tables.';\n",
              "          element.innerHTML = '';\n",
              "          dataTable['output_type'] = 'display_data';\n",
              "          await google.colab.output.renderOutput(dataTable, element);\n",
              "          const docLink = document.createElement('div');\n",
              "          docLink.innerHTML = docLinkHtml;\n",
              "          element.appendChild(docLink);\n",
              "        }\n",
              "      </script>\n",
              "    </div>\n",
              "  </div>\n",
              "  "
            ]
          },
          "metadata": {},
          "execution_count": 8
        }
      ],
      "source": [
        "df.describe(include='all')"
      ]
    },
    {
      "cell_type": "code",
      "execution_count": 9,
      "metadata": {
        "scrolled": true,
        "colab": {
          "base_uri": "https://localhost:8080/"
        },
        "id": "CwXzKNqy_Tqy",
        "outputId": "deac7156-d0f3-4562-b4c2-45ae46b27ebb"
      },
      "outputs": [
        {
          "output_type": "execute_result",
          "data": {
            "text/plain": [
              "(2224, 11)"
            ]
          },
          "metadata": {},
          "execution_count": 9
        }
      ],
      "source": [
        "df.shape"
      ]
    },
    {
      "cell_type": "code",
      "execution_count": 10,
      "metadata": {
        "id": "K7uaON2G_Tqz"
      },
      "outputs": [],
      "source": [
        "df= df.drop(['Ticket #','Time'], axis=1)\n"
      ]
    },
    {
      "cell_type": "code",
      "execution_count": 11,
      "metadata": {
        "colab": {
          "base_uri": "https://localhost:8080/",
          "height": 389
        },
        "id": "iQljuHIc_Tq0",
        "outputId": "53647902-7ee5-463c-c505-de87a69ebf1c"
      },
      "outputs": [
        {
          "output_type": "execute_result",
          "data": {
            "text/plain": [
              "                                  Customer Complaint      Date  \\\n",
              "0                      Comcast Cable Internet Speeds  22-04-15   \n",
              "1       Payment disappear - service got disconnected  04-08-15   \n",
              "2                                  Speed and Service  18-04-15   \n",
              "3  Comcast Imposed a New Usage Cap of 300GB that ...  05-07-15   \n",
              "4         Comcast not working and no service to boot  26-05-15   \n",
              "\n",
              "  Date_month_year        Received Via      City     State  Zip code  Status  \\\n",
              "0       22-Apr-15  Customer Care Call  Abingdon  Maryland     21009  Closed   \n",
              "1       04-Aug-15            Internet   Acworth   Georgia     30102  Closed   \n",
              "2       18-Apr-15            Internet   Acworth   Georgia     30101  Closed   \n",
              "3       05-Jul-15            Internet   Acworth   Georgia     30101    Open   \n",
              "4       26-May-15            Internet   Acworth   Georgia     30101  Solved   \n",
              "\n",
              "  Filing on Behalf of Someone  \n",
              "0                          No  \n",
              "1                          No  \n",
              "2                         Yes  \n",
              "3                         Yes  \n",
              "4                          No  "
            ],
            "text/html": [
              "\n",
              "  <div id=\"df-7faa9752-8d56-4770-b22a-58eda7f750ca\">\n",
              "    <div class=\"colab-df-container\">\n",
              "      <div>\n",
              "<style scoped>\n",
              "    .dataframe tbody tr th:only-of-type {\n",
              "        vertical-align: middle;\n",
              "    }\n",
              "\n",
              "    .dataframe tbody tr th {\n",
              "        vertical-align: top;\n",
              "    }\n",
              "\n",
              "    .dataframe thead th {\n",
              "        text-align: right;\n",
              "    }\n",
              "</style>\n",
              "<table border=\"1\" class=\"dataframe\">\n",
              "  <thead>\n",
              "    <tr style=\"text-align: right;\">\n",
              "      <th></th>\n",
              "      <th>Customer Complaint</th>\n",
              "      <th>Date</th>\n",
              "      <th>Date_month_year</th>\n",
              "      <th>Received Via</th>\n",
              "      <th>City</th>\n",
              "      <th>State</th>\n",
              "      <th>Zip code</th>\n",
              "      <th>Status</th>\n",
              "      <th>Filing on Behalf of Someone</th>\n",
              "    </tr>\n",
              "  </thead>\n",
              "  <tbody>\n",
              "    <tr>\n",
              "      <th>0</th>\n",
              "      <td>Comcast Cable Internet Speeds</td>\n",
              "      <td>22-04-15</td>\n",
              "      <td>22-Apr-15</td>\n",
              "      <td>Customer Care Call</td>\n",
              "      <td>Abingdon</td>\n",
              "      <td>Maryland</td>\n",
              "      <td>21009</td>\n",
              "      <td>Closed</td>\n",
              "      <td>No</td>\n",
              "    </tr>\n",
              "    <tr>\n",
              "      <th>1</th>\n",
              "      <td>Payment disappear - service got disconnected</td>\n",
              "      <td>04-08-15</td>\n",
              "      <td>04-Aug-15</td>\n",
              "      <td>Internet</td>\n",
              "      <td>Acworth</td>\n",
              "      <td>Georgia</td>\n",
              "      <td>30102</td>\n",
              "      <td>Closed</td>\n",
              "      <td>No</td>\n",
              "    </tr>\n",
              "    <tr>\n",
              "      <th>2</th>\n",
              "      <td>Speed and Service</td>\n",
              "      <td>18-04-15</td>\n",
              "      <td>18-Apr-15</td>\n",
              "      <td>Internet</td>\n",
              "      <td>Acworth</td>\n",
              "      <td>Georgia</td>\n",
              "      <td>30101</td>\n",
              "      <td>Closed</td>\n",
              "      <td>Yes</td>\n",
              "    </tr>\n",
              "    <tr>\n",
              "      <th>3</th>\n",
              "      <td>Comcast Imposed a New Usage Cap of 300GB that ...</td>\n",
              "      <td>05-07-15</td>\n",
              "      <td>05-Jul-15</td>\n",
              "      <td>Internet</td>\n",
              "      <td>Acworth</td>\n",
              "      <td>Georgia</td>\n",
              "      <td>30101</td>\n",
              "      <td>Open</td>\n",
              "      <td>Yes</td>\n",
              "    </tr>\n",
              "    <tr>\n",
              "      <th>4</th>\n",
              "      <td>Comcast not working and no service to boot</td>\n",
              "      <td>26-05-15</td>\n",
              "      <td>26-May-15</td>\n",
              "      <td>Internet</td>\n",
              "      <td>Acworth</td>\n",
              "      <td>Georgia</td>\n",
              "      <td>30101</td>\n",
              "      <td>Solved</td>\n",
              "      <td>No</td>\n",
              "    </tr>\n",
              "  </tbody>\n",
              "</table>\n",
              "</div>\n",
              "      <button class=\"colab-df-convert\" onclick=\"convertToInteractive('df-7faa9752-8d56-4770-b22a-58eda7f750ca')\"\n",
              "              title=\"Convert this dataframe to an interactive table.\"\n",
              "              style=\"display:none;\">\n",
              "        \n",
              "  <svg xmlns=\"http://www.w3.org/2000/svg\" height=\"24px\"viewBox=\"0 0 24 24\"\n",
              "       width=\"24px\">\n",
              "    <path d=\"M0 0h24v24H0V0z\" fill=\"none\"/>\n",
              "    <path d=\"M18.56 5.44l.94 2.06.94-2.06 2.06-.94-2.06-.94-.94-2.06-.94 2.06-2.06.94zm-11 1L8.5 8.5l.94-2.06 2.06-.94-2.06-.94L8.5 2.5l-.94 2.06-2.06.94zm10 10l.94 2.06.94-2.06 2.06-.94-2.06-.94-.94-2.06-.94 2.06-2.06.94z\"/><path d=\"M17.41 7.96l-1.37-1.37c-.4-.4-.92-.59-1.43-.59-.52 0-1.04.2-1.43.59L10.3 9.45l-7.72 7.72c-.78.78-.78 2.05 0 2.83L4 21.41c.39.39.9.59 1.41.59.51 0 1.02-.2 1.41-.59l7.78-7.78 2.81-2.81c.8-.78.8-2.07 0-2.86zM5.41 20L4 18.59l7.72-7.72 1.47 1.35L5.41 20z\"/>\n",
              "  </svg>\n",
              "      </button>\n",
              "      \n",
              "  <style>\n",
              "    .colab-df-container {\n",
              "      display:flex;\n",
              "      flex-wrap:wrap;\n",
              "      gap: 12px;\n",
              "    }\n",
              "\n",
              "    .colab-df-convert {\n",
              "      background-color: #E8F0FE;\n",
              "      border: none;\n",
              "      border-radius: 50%;\n",
              "      cursor: pointer;\n",
              "      display: none;\n",
              "      fill: #1967D2;\n",
              "      height: 32px;\n",
              "      padding: 0 0 0 0;\n",
              "      width: 32px;\n",
              "    }\n",
              "\n",
              "    .colab-df-convert:hover {\n",
              "      background-color: #E2EBFA;\n",
              "      box-shadow: 0px 1px 2px rgba(60, 64, 67, 0.3), 0px 1px 3px 1px rgba(60, 64, 67, 0.15);\n",
              "      fill: #174EA6;\n",
              "    }\n",
              "\n",
              "    [theme=dark] .colab-df-convert {\n",
              "      background-color: #3B4455;\n",
              "      fill: #D2E3FC;\n",
              "    }\n",
              "\n",
              "    [theme=dark] .colab-df-convert:hover {\n",
              "      background-color: #434B5C;\n",
              "      box-shadow: 0px 1px 3px 1px rgba(0, 0, 0, 0.15);\n",
              "      filter: drop-shadow(0px 1px 2px rgba(0, 0, 0, 0.3));\n",
              "      fill: #FFFFFF;\n",
              "    }\n",
              "  </style>\n",
              "\n",
              "      <script>\n",
              "        const buttonEl =\n",
              "          document.querySelector('#df-7faa9752-8d56-4770-b22a-58eda7f750ca button.colab-df-convert');\n",
              "        buttonEl.style.display =\n",
              "          google.colab.kernel.accessAllowed ? 'block' : 'none';\n",
              "\n",
              "        async function convertToInteractive(key) {\n",
              "          const element = document.querySelector('#df-7faa9752-8d56-4770-b22a-58eda7f750ca');\n",
              "          const dataTable =\n",
              "            await google.colab.kernel.invokeFunction('convertToInteractive',\n",
              "                                                     [key], {});\n",
              "          if (!dataTable) return;\n",
              "\n",
              "          const docLinkHtml = 'Like what you see? Visit the ' +\n",
              "            '<a target=\"_blank\" href=https://colab.research.google.com/notebooks/data_table.ipynb>data table notebook</a>'\n",
              "            + ' to learn more about interactive tables.';\n",
              "          element.innerHTML = '';\n",
              "          dataTable['output_type'] = 'display_data';\n",
              "          await google.colab.output.renderOutput(dataTable, element);\n",
              "          const docLink = document.createElement('div');\n",
              "          docLink.innerHTML = docLinkHtml;\n",
              "          element.appendChild(docLink);\n",
              "        }\n",
              "      </script>\n",
              "    </div>\n",
              "  </div>\n",
              "  "
            ]
          },
          "metadata": {},
          "execution_count": 11
        }
      ],
      "source": [
        "df.head()"
      ]
    },
    {
      "cell_type": "markdown",
      "source": [
        "Lookout complaints over the date"
      ],
      "metadata": {
        "id": "QijFsQ6OCaKQ"
      }
    },
    {
      "cell_type": "code",
      "source": [
        "df['Customer Complaint'].groupby(df.Date).count().plot(kind='bar',figsize=(22,6))\n",
        "\n"
      ],
      "metadata": {
        "colab": {
          "base_uri": "https://localhost:8080/",
          "height": 309
        },
        "id": "HYIptZFUA4OA",
        "outputId": "c493fbb4-a661-4361-b963-1d43a4e29bcd"
      },
      "execution_count": 12,
      "outputs": [
        {
          "output_type": "execute_result",
          "data": {
            "text/plain": [
              "<matplotlib.axes._subplots.AxesSubplot at 0x7f8df2010810>"
            ]
          },
          "metadata": {},
          "execution_count": 12
        },
        {
          "output_type": "display_data",
          "data": {
            "text/plain": [
              "<Figure size 1584x432 with 1 Axes>"
            ],
            "image/png": "[encoded data removed]"
          },
          "metadata": {}
        }
      ]
    },
    {
      "cell_type": "markdown",
      "source": [
        "**Highest complaints (more than 200) received on Date 24.06.2015**"
      ],
      "metadata": {
        "id": "vXkErbcJBiKs"
      }
    },
    {
      "cell_type": "markdown",
      "metadata": {
        "id": "eV_4yMjW_Tq1"
      },
      "source": [
        "### Task-1 Provide the trend chart for the number of complaints at monthly and daily granularity levels."
      ]
    },
    {
      "cell_type": "code",
      "execution_count": 13,
      "metadata": {
        "id": "wl3V8A9o_Tq1"
      },
      "outputs": [],
      "source": [
        "# Pandas to_datetime() method helps to convert string Date time into Python Date time object. \n",
        "df['Date_month_year']=df['Date_month_year'].apply(pd.to_datetime)\n",
        "# Setting 'Date_month_year' as index\n",
        "df=df.set_index('Date_month_year')"
      ]
    },
    {
      "cell_type": "markdown",
      "metadata": {
        "id": "IJps5rIX_Tq2"
      },
      "source": [
        "##### plotting monthly chart"
      ]
    },
    {
      "cell_type": "code",
      "execution_count": 14,
      "metadata": {
        "colab": {
          "base_uri": "https://localhost:8080/",
          "height": 324
        },
        "id": "uJTZimIh_Tq2",
        "outputId": "ad9cb32a-a28f-45eb-e05e-58c178dd4d9b"
      },
      "outputs": [
        {
          "output_type": "execute_result",
          "data": {
            "text/plain": [
              "Text(0.5, 1.0, 'MONTHLY TREND CHART')"
            ]
          },
          "metadata": {},
          "execution_count": 14
        },
        {
          "output_type": "display_data",
          "data": {
            "text/plain": [
              "<Figure size 432x288 with 1 Axes>"
            ],
            "image/png": "[encoded data removed]"
          },
          "metadata": {}
        }
      ],
      "source": [
        "# dataframe.groupby() function is splitting the data into groups accoring to frequency\n",
        "months= df.groupby(pd.Grouper(freq=\"M\")).size().plot()\n",
        "plt.xlabel(\"MONTHS\")\n",
        "plt.ylabel(\"FREQUENCY\")\n",
        "plt.title(\"MONTHLY TREND CHART\")"
      ]
    },
    {
      "cell_type": "markdown",
      "metadata": {
        "id": "2Jfm8Q4V_Tq3"
      },
      "source": [
        "##### INSIGHTS:- From the above trend chart, we can clearly see that complaints for the month of June 2015 are maximum"
      ]
    },
    {
      "cell_type": "code",
      "execution_count": 15,
      "metadata": {
        "colab": {
          "base_uri": "https://localhost:8080/"
        },
        "id": "7uYRabl5_Tq4",
        "outputId": "9d34b1df-d4b5-4c32-a38b-8302c33ffa1b"
      },
      "outputs": [
        {
          "output_type": "execute_result",
          "data": {
            "text/plain": [
              "24-06-15    218\n",
              "23-06-15    190\n",
              "25-06-15     98\n",
              "26-06-15     55\n",
              "30-06-15     53\n",
              "29-06-15     51\n",
              "18-06-15     47\n",
              "06-12-15     43\n",
              "Name: Date, dtype: int64"
            ]
          },
          "metadata": {},
          "execution_count": 15
        }
      ],
      "source": [
        "#value_counts() function is getting a Series containing counts of unique values for Date column.\n",
        "df['Date'].value_counts(dropna=False)[:8]"
      ]
    },
    {
      "cell_type": "markdown",
      "metadata": {
        "id": "pFgQyxUg_Tq4"
      },
      "source": [
        "##### plotting daily chart"
      ]
    },
    {
      "cell_type": "code",
      "execution_count": 17,
      "metadata": {
        "colab": {
          "base_uri": "https://localhost:8080/",
          "height": 421
        },
        "id": "keO3otGA_Tq5",
        "outputId": "12237a3a-f587-455f-e8fb-3fb6eeebf7c9"
      },
      "outputs": [
        {
          "output_type": "execute_result",
          "data": {
            "text/plain": [
              "Text(0.5, 1.0, 'DAILY TREND CHART')"
            ]
          },
          "metadata": {},
          "execution_count": 17
        },
        {
          "output_type": "display_data",
          "data": {
            "text/plain": [
              "<Figure size 432x432 with 1 Axes>"
            ],
            "image/png": "[encoded data removed]"
          },
          "metadata": {}
        }
      ],
      "source": [
        "df= df.sort_values(by='Date')\n",
        "plt.figure(figsize=(6,6))\n",
        "df['Date'].value_counts().plot()\n",
        "plt.xlabel(\"Date\")\n",
        "plt.ylabel(\"FREQUENCY\")\n",
        "plt.title(\"DAILY TREND CHART\")"
      ]
    },
    {
      "cell_type": "code",
      "execution_count": null,
      "metadata": {
        "id": "kQNAuTqt_Tq5"
      },
      "outputs": [],
      "source": [
        ""
      ]
    },
    {
      "cell_type": "markdown",
      "metadata": {
        "id": "dvGy4B2f_Tq5"
      },
      "source": [
        "### Task-2 Provide a table with the frequency of complaint types."
      ]
    },
    {
      "cell_type": "code",
      "execution_count": 18,
      "metadata": {
        "colab": {
          "base_uri": "https://localhost:8080/"
        },
        "id": "-juHY6Ij_Tq6",
        "outputId": "1a84a595-c837-43f6-9a24-93825a956754"
      },
      "outputs": [
        {
          "output_type": "execute_result",
          "data": {
            "text/plain": [
              "Comcast                     83\n",
              "Comcast Internet            18\n",
              "Comcast Data Cap            17\n",
              "comcast                     13\n",
              "Data Caps                   11\n",
              "Comcast Billing             11\n",
              "Comcast Data Caps           11\n",
              "Unfair Billing Practices     9\n",
              "Comcast data caps            8\n",
              "Name: Customer Complaint, dtype: int64"
            ]
          },
          "metadata": {},
          "execution_count": 18
        }
      ],
      "source": [
        "df['Customer Complaint'].value_counts(dropna=False)[:9]"
      ]
    },
    {
      "cell_type": "code",
      "execution_count": 19,
      "metadata": {
        "colab": {
          "base_uri": "https://localhost:8080/",
          "height": 385
        },
        "id": "9Z312xn1_Tq6",
        "outputId": "8bd21c04-f724-4140-cfc5-cd4ea2f3653e"
      },
      "outputs": [
        {
          "output_type": "execute_result",
          "data": {
            "text/plain": [
              "<matplotlib.axes._subplots.AxesSubplot at 0x7f8deccba690>"
            ]
          },
          "metadata": {},
          "execution_count": 19
        },
        {
          "output_type": "display_data",
          "data": {
            "text/plain": [
              "<Figure size 432x288 with 1 Axes>"
            ],
            "image/png": "[encoded data removed]"
          },
          "metadata": {}
        }
      ],
      "source": [
        "df['Customer Complaint'].value_counts(dropna=False)[:9].plot.bar()"
      ]
    },
    {
      "cell_type": "markdown",
      "metadata": {
        "id": "NtJ2-Jb2_Tq7"
      },
      "source": [
        "### Task 3-Which complaint types are maximum i.e., around internet, network issues, or across any other domains."
      ]
    },
    {
      "cell_type": "code",
      "execution_count": 20,
      "metadata": {
        "id": "ewRCN8Kc_Tq8"
      },
      "outputs": [],
      "source": [
        "internet_issues1=df[df['Customer Complaint'].str.contains(\"network\")].count()"
      ]
    },
    {
      "cell_type": "code",
      "execution_count": 21,
      "metadata": {
        "id": "RZaTIxkP_Tq8"
      },
      "outputs": [],
      "source": [
        "internet_issues2=df[df['Customer Complaint'].str.contains(\"speed\")].count()"
      ]
    },
    {
      "cell_type": "code",
      "execution_count": 22,
      "metadata": {
        "id": "h3lXpdYM_Tq8"
      },
      "outputs": [],
      "source": [
        "internet_issues3=df[df['Customer Complaint'].str.contains(\"data\")].count()"
      ]
    },
    {
      "cell_type": "code",
      "execution_count": 23,
      "metadata": {
        "id": "XlYVnrN4_Tq9"
      },
      "outputs": [],
      "source": [
        "internet_issues4=df[df['Customer Complaint'].str.contains(\"internet\")].count()"
      ]
    },
    {
      "cell_type": "code",
      "execution_count": 24,
      "metadata": {
        "id": "_do9EYzi_Tq9"
      },
      "outputs": [],
      "source": [
        "billing_issues1=df[df['Customer Complaint'].str.contains(\"bill\")].count()"
      ]
    },
    {
      "cell_type": "code",
      "execution_count": 25,
      "metadata": {
        "id": "a-LnQ34f_Tq9"
      },
      "outputs": [],
      "source": [
        "billing_issues2=df[df['Customer Complaint'].str.contains(\"billing\")].count()"
      ]
    },
    {
      "cell_type": "code",
      "execution_count": 26,
      "metadata": {
        "id": "t5GPfBth_Tq-"
      },
      "outputs": [],
      "source": [
        "billing_issues3=df[df['Customer Complaint'].str.contains(\"charges\")].count()"
      ]
    },
    {
      "cell_type": "code",
      "execution_count": 27,
      "metadata": {
        "id": "Hf0Wy5hE_Tq-"
      },
      "outputs": [],
      "source": [
        "service_issues1=df[df['Customer Complaint'].str.contains(\"service\")].count()"
      ]
    },
    {
      "cell_type": "code",
      "execution_count": 28,
      "metadata": {
        "id": "Wwv81fek_Tq-"
      },
      "outputs": [],
      "source": [
        "service_issues2=df[df['Customer Complaint'].str.contains(\"customer\")].count()"
      ]
    },
    {
      "cell_type": "code",
      "execution_count": 29,
      "metadata": {
        "colab": {
          "base_uri": "https://localhost:8080/"
        },
        "id": "oAhOtlOu_Tq_",
        "outputId": "2f03d481-4800-4df0-8607-59c3acb0863b"
      },
      "outputs": [
        {
          "output_type": "stream",
          "name": "stdout",
          "text": [
            "Customer Complaint             374\n",
            "Date                           374\n",
            "Received Via                   374\n",
            "City                           374\n",
            "State                          374\n",
            "Zip code                       374\n",
            "Status                         374\n",
            "Filing on Behalf of Someone    374\n",
            "dtype: int64\n"
          ]
        }
      ],
      "source": [
        "total_internet_issues=internet_issues1+internet_issues2+internet_issues3+internet_issues4\n",
        "print(total_internet_issues)"
      ]
    },
    {
      "cell_type": "code",
      "execution_count": 30,
      "metadata": {
        "colab": {
          "base_uri": "https://localhost:8080/"
        },
        "id": "_PM5alO2_Tq_",
        "outputId": "fc787b6e-858a-4422-bf67-0e1f9b58c877"
      },
      "outputs": [
        {
          "output_type": "stream",
          "name": "stdout",
          "text": [
            "Customer Complaint             353\n",
            "Date                           353\n",
            "Received Via                   353\n",
            "City                           353\n",
            "State                          353\n",
            "Zip code                       353\n",
            "Status                         353\n",
            "Filing on Behalf of Someone    353\n",
            "dtype: int64\n"
          ]
        }
      ],
      "source": [
        "total_billing_issues=billing_issues1+billing_issues2+billing_issues3\n",
        "print(total_billing_issues)"
      ]
    },
    {
      "cell_type": "code",
      "execution_count": 31,
      "metadata": {
        "colab": {
          "base_uri": "https://localhost:8080/"
        },
        "id": "hQ5JfIr8_TrA",
        "outputId": "cdcba1c6-a8a5-4cfc-a49d-f1ed8cfb1d42"
      },
      "outputs": [
        {
          "output_type": "stream",
          "name": "stdout",
          "text": [
            "Customer Complaint             360\n",
            "Date                           360\n",
            "Received Via                   360\n",
            "City                           360\n",
            "State                          360\n",
            "Zip code                       360\n",
            "Status                         360\n",
            "Filing on Behalf of Someone    360\n",
            "dtype: int64\n"
          ]
        }
      ],
      "source": [
        "total_service_issues=service_issues1+service_issues2\n",
        "print(total_service_issues)"
      ]
    },
    {
      "cell_type": "code",
      "execution_count": 32,
      "metadata": {
        "colab": {
          "base_uri": "https://localhost:8080/"
        },
        "id": "Iq5Y1Wqx_TrA",
        "outputId": "eac1a4c5-7061-4835-ba22-4b6f01f4eb34"
      },
      "outputs": [
        {
          "output_type": "stream",
          "name": "stdout",
          "text": [
            "Customer Complaint             1137\n",
            "Date                           1137\n",
            "Received Via                   1137\n",
            "City                           1137\n",
            "State                          1137\n",
            "Zip code                       1137\n",
            "Status                         1137\n",
            "Filing on Behalf of Someone    1137\n",
            "dtype: int64\n"
          ]
        }
      ],
      "source": [
        "other_issues=2224-(total_internet_issues+total_billing_issues+total_service_issues)\n",
        "print(other_issues)"
      ]
    },
    {
      "cell_type": "markdown",
      "metadata": {
        "id": "OKDCCmnz_TrB"
      },
      "source": [
        "##### INSIGHTS:- From the above analysis we can see that the other issues are maximum."
      ]
    },
    {
      "cell_type": "markdown",
      "metadata": {
        "id": "BkeQgpXz_TrB"
      },
      "source": [
        "### 4.Create a new categorical variable with value as Open and Closed. Open & Pending is to be categorized as Open and Closed & Solved is to be categorized as Closed."
      ]
    },
    {
      "cell_type": "code",
      "execution_count": 33,
      "metadata": {
        "colab": {
          "base_uri": "https://localhost:8080/"
        },
        "id": "kaGpftC1_TrB",
        "outputId": "8e39dced-5434-478f-8ca6-5fbc3e252597"
      },
      "outputs": [
        {
          "output_type": "execute_result",
          "data": {
            "text/plain": [
              "array(['Closed', 'Open', 'Solved', 'Pending'], dtype=object)"
            ]
          },
          "metadata": {},
          "execution_count": 33
        }
      ],
      "source": [
        "df.Status.unique()"
      ]
    },
    {
      "cell_type": "code",
      "execution_count": 34,
      "metadata": {
        "colab": {
          "base_uri": "https://localhost:8080/",
          "height": 759
        },
        "id": "S8X4zFcY_TrC",
        "outputId": "12df7e57-b616-49eb-e712-32337bef654d"
      },
      "outputs": [
        {
          "output_type": "execute_result",
          "data": {
            "text/plain": [
              "                                                Customer Complaint      Date  \\\n",
              "Date_month_year                                                                \n",
              "2015-01-04        Fraudulent claims reported to collections agency  04-01-15   \n",
              "2015-01-04                              Comcast refusal of service  04-01-15   \n",
              "2015-01-04                                           Comcast Cable  04-01-15   \n",
              "2015-01-04                                           Data Overages  04-01-15   \n",
              "2015-01-04                                                 Comcast  04-01-15   \n",
              "...                                                            ...       ...   \n",
              "2015-05-31                                                 Comcast  31-05-15   \n",
              "2015-05-31                    Comcast of East Windsor NJ Complaint  31-05-15   \n",
              "2015-05-31                                             n/a (b) (6)  31-05-15   \n",
              "2015-05-31       Complaint against Comcast for incredibly bad s...  31-05-15   \n",
              "2015-05-31                          Questionable internet slowdown  31-05-15   \n",
              "\n",
              "                       Received Via              City          State  \\\n",
              "Date_month_year                                                        \n",
              "2015-01-04       Customer Care Call           Atlanta        Georgia   \n",
              "2015-01-04       Customer Care Call             Wayne   Pennsylvania   \n",
              "2015-01-04                 Internet          Franklin      Tennessee   \n",
              "2015-01-04                 Internet          Savannah        Georgia   \n",
              "2015-01-04                 Internet  North Huntingdon   Pennsylvania   \n",
              "...                             ...               ...            ...   \n",
              "2015-05-31       Customer Care Call         Beaverton         Oregon   \n",
              "2015-05-31                 Internet      East Windsor     New Jersey   \n",
              "2015-05-31                 Internet        Loganville        Georgia   \n",
              "2015-05-31       Customer Care Call          Edgewood     Washington   \n",
              "2015-05-31       Customer Care Call           Peabody  Massachusetts   \n",
              "\n",
              "                 Zip code Filing on Behalf of Someone newStatus  \n",
              "Date_month_year                                                  \n",
              "2015-01-04          30312                          No    Closed  \n",
              "2015-01-04          19087                          No    Closed  \n",
              "2015-01-04          37067                          No    Closed  \n",
              "2015-01-04          31406                          No    Closed  \n",
              "2015-01-04          15642                          No    Closed  \n",
              "...                   ...                         ...       ...  \n",
              "2015-05-31          97006                          No      Open  \n",
              "2015-05-31           8520                          No      Open  \n",
              "2015-05-31          30052                          No      Open  \n",
              "2015-05-31          98372                          No      Open  \n",
              "2015-05-31           1960                          No    Closed  \n",
              "\n",
              "[2224 rows x 8 columns]"
            ],
            "text/html": [
              "\n",
              "  <div id=\"df-eaa89c48-c537-4d62-8c17-f8183785aa64\">\n",
              "    <div class=\"colab-df-container\">\n",
              "      <div>\n",
              "<style scoped>\n",
              "    .dataframe tbody tr th:only-of-type {\n",
              "        vertical-align: middle;\n",
              "    }\n",
              "\n",
              "    .dataframe tbody tr th {\n",
              "        vertical-align: top;\n",
              "    }\n",
              "\n",
              "    .dataframe thead th {\n",
              "        text-align: right;\n",
              "    }\n",
              "</style>\n",
              "<table border=\"1\" class=\"dataframe\">\n",
              "  <thead>\n",
              "    <tr style=\"text-align: right;\">\n",
              "      <th></th>\n",
              "      <th>Customer Complaint</th>\n",
              "      <th>Date</th>\n",
              "      <th>Received Via</th>\n",
              "      <th>City</th>\n",
              "      <th>State</th>\n",
              "      <th>Zip code</th>\n",
              "      <th>Filing on Behalf of Someone</th>\n",
              "      <th>newStatus</th>\n",
              "    </tr>\n",
              "    <tr>\n",
              "      <th>Date_month_year</th>\n",
              "      <th></th>\n",
              "      <th></th>\n",
              "      <th></th>\n",
              "      <th></th>\n",
              "      <th></th>\n",
              "      <th></th>\n",
              "      <th></th>\n",
              "      <th></th>\n",
              "    </tr>\n",
              "  </thead>\n",
              "  <tbody>\n",
              "    <tr>\n",
              "      <th>2015-01-04</th>\n",
              "      <td>Fraudulent claims reported to collections agency</td>\n",
              "      <td>04-01-15</td>\n",
              "      <td>Customer Care Call</td>\n",
              "      <td>Atlanta</td>\n",
              "      <td>Georgia</td>\n",
              "      <td>30312</td>\n",
              "      <td>No</td>\n",
              "      <td>Closed</td>\n",
              "    </tr>\n",
              "    <tr>\n",
              "      <th>2015-01-04</th>\n",
              "      <td>Comcast refusal of service</td>\n",
              "      <td>04-01-15</td>\n",
              "      <td>Customer Care Call</td>\n",
              "      <td>Wayne</td>\n",
              "      <td>Pennsylvania</td>\n",
              "      <td>19087</td>\n",
              "      <td>No</td>\n",
              "      <td>Closed</td>\n",
              "    </tr>\n",
              "    <tr>\n",
              "      <th>2015-01-04</th>\n",
              "      <td>Comcast Cable</td>\n",
              "      <td>04-01-15</td>\n",
              "      <td>Internet</td>\n",
              "      <td>Franklin</td>\n",
              "      <td>Tennessee</td>\n",
              "      <td>37067</td>\n",
              "      <td>No</td>\n",
              "      <td>Closed</td>\n",
              "    </tr>\n",
              "    <tr>\n",
              "      <th>2015-01-04</th>\n",
              "      <td>Data Overages</td>\n",
              "      <td>04-01-15</td>\n",
              "      <td>Internet</td>\n",
              "      <td>Savannah</td>\n",
              "      <td>Georgia</td>\n",
              "      <td>31406</td>\n",
              "      <td>No</td>\n",
              "      <td>Closed</td>\n",
              "    </tr>\n",
              "    <tr>\n",
              "      <th>2015-01-04</th>\n",
              "      <td>Comcast</td>\n",
              "      <td>04-01-15</td>\n",
              "      <td>Internet</td>\n",
              "      <td>North Huntingdon</td>\n",
              "      <td>Pennsylvania</td>\n",
              "      <td>15642</td>\n",
              "      <td>No</td>\n",
              "      <td>Closed</td>\n",
              "    </tr>\n",
              "    <tr>\n",
              "      <th>...</th>\n",
              "      <td>...</td>\n",
              "      <td>...</td>\n",
              "      <td>...</td>\n",
              "      <td>...</td>\n",
              "      <td>...</td>\n",
              "      <td>...</td>\n",
              "      <td>...</td>\n",
              "      <td>...</td>\n",
              "    </tr>\n",
              "    <tr>\n",
              "      <th>2015-05-31</th>\n",
              "      <td>Comcast</td>\n",
              "      <td>31-05-15</td>\n",
              "      <td>Customer Care Call</td>\n",
              "      <td>Beaverton</td>\n",
              "      <td>Oregon</td>\n",
              "      <td>97006</td>\n",
              "      <td>No</td>\n",
              "      <td>Open</td>\n",
              "    </tr>\n",
              "    <tr>\n",
              "      <th>2015-05-31</th>\n",
              "      <td>Comcast of East Windsor NJ Complaint</td>\n",
              "      <td>31-05-15</td>\n",
              "      <td>Internet</td>\n",
              "      <td>East Windsor</td>\n",
              "      <td>New Jersey</td>\n",
              "      <td>8520</td>\n",
              "      <td>No</td>\n",
              "      <td>Open</td>\n",
              "    </tr>\n",
              "    <tr>\n",
              "      <th>2015-05-31</th>\n",
              "      <td>n/a (b) (6)</td>\n",
              "      <td>31-05-15</td>\n",
              "      <td>Internet</td>\n",
              "      <td>Loganville</td>\n",
              "      <td>Georgia</td>\n",
              "      <td>30052</td>\n",
              "      <td>No</td>\n",
              "      <td>Open</td>\n",
              "    </tr>\n",
              "    <tr>\n",
              "      <th>2015-05-31</th>\n",
              "      <td>Complaint against Comcast for incredibly bad s...</td>\n",
              "      <td>31-05-15</td>\n",
              "      <td>Customer Care Call</td>\n",
              "      <td>Edgewood</td>\n",
              "      <td>Washington</td>\n",
              "      <td>98372</td>\n",
              "      <td>No</td>\n",
              "      <td>Open</td>\n",
              "    </tr>\n",
              "    <tr>\n",
              "      <th>2015-05-31</th>\n",
              "      <td>Questionable internet slowdown</td>\n",
              "      <td>31-05-15</td>\n",
              "      <td>Customer Care Call</td>\n",
              "      <td>Peabody</td>\n",
              "      <td>Massachusetts</td>\n",
              "      <td>1960</td>\n",
              "      <td>No</td>\n",
              "      <td>Closed</td>\n",
              "    </tr>\n",
              "  </tbody>\n",
              "</table>\n",
              "<p>2224 rows × 8 columns</p>\n",
              "</div>\n",
              "      <button class=\"colab-df-convert\" onclick=\"convertToInteractive('df-eaa89c48-c537-4d62-8c17-f8183785aa64')\"\n",
              "              title=\"Convert this dataframe to an interactive table.\"\n",
              "              style=\"display:none;\">\n",
              "        \n",
              "  <svg xmlns=\"http://www.w3.org/2000/svg\" height=\"24px\"viewBox=\"0 0 24 24\"\n",
              "       width=\"24px\">\n",
              "    <path d=\"M0 0h24v24H0V0z\" fill=\"none\"/>\n",
              "    <path d=\"M18.56 5.44l.94 2.06.94-2.06 2.06-.94-2.06-.94-.94-2.06-.94 2.06-2.06.94zm-11 1L8.5 8.5l.94-2.06 2.06-.94-2.06-.94L8.5 2.5l-.94 2.06-2.06.94zm10 10l.94 2.06.94-2.06 2.06-.94-2.06-.94-.94-2.06-.94 2.06-2.06.94z\"/><path d=\"M17.41 7.96l-1.37-1.37c-.4-.4-.92-.59-1.43-.59-.52 0-1.04.2-1.43.59L10.3 9.45l-7.72 7.72c-.78.78-.78 2.05 0 2.83L4 21.41c.39.39.9.59 1.41.59.51 0 1.02-.2 1.41-.59l7.78-7.78 2.81-2.81c.8-.78.8-2.07 0-2.86zM5.41 20L4 18.59l7.72-7.72 1.47 1.35L5.41 20z\"/>\n",
              "  </svg>\n",
              "      </button>\n",
              "      \n",
              "  <style>\n",
              "    .colab-df-container {\n",
              "      display:flex;\n",
              "      flex-wrap:wrap;\n",
              "      gap: 12px;\n",
              "    }\n",
              "\n",
              "    .colab-df-convert {\n",
              "      background-color: #E8F0FE;\n",
              "      border: none;\n",
              "      border-radius: 50%;\n",
              "      cursor: pointer;\n",
              "      display: none;\n",
              "      fill: #1967D2;\n",
              "      height: 32px;\n",
              "      padding: 0 0 0 0;\n",
              "      width: 32px;\n",
              "    }\n",
              "\n",
              "    .colab-df-convert:hover {\n",
              "      background-color: #E2EBFA;\n",
              "      box-shadow: 0px 1px 2px rgba(60, 64, 67, 0.3), 0px 1px 3px 1px rgba(60, 64, 67, 0.15);\n",
              "      fill: #174EA6;\n",
              "    }\n",
              "\n",
              "    [theme=dark] .colab-df-convert {\n",
              "      background-color: #3B4455;\n",
              "      fill: #D2E3FC;\n",
              "    }\n",
              "\n",
              "    [theme=dark] .colab-df-convert:hover {\n",
              "      background-color: #434B5C;\n",
              "      box-shadow: 0px 1px 3px 1px rgba(0, 0, 0, 0.15);\n",
              "      filter: drop-shadow(0px 1px 2px rgba(0, 0, 0, 0.3));\n",
              "      fill: #FFFFFF;\n",
              "    }\n",
              "  </style>\n",
              "\n",
              "      <script>\n",
              "        const buttonEl =\n",
              "          document.querySelector('#df-eaa89c48-c537-4d62-8c17-f8183785aa64 button.colab-df-convert');\n",
              "        buttonEl.style.display =\n",
              "          google.colab.kernel.accessAllowed ? 'block' : 'none';\n",
              "\n",
              "        async function convertToInteractive(key) {\n",
              "          const element = document.querySelector('#df-eaa89c48-c537-4d62-8c17-f8183785aa64');\n",
              "          const dataTable =\n",
              "            await google.colab.kernel.invokeFunction('convertToInteractive',\n",
              "                                                     [key], {});\n",
              "          if (!dataTable) return;\n",
              "\n",
              "          const docLinkHtml = 'Like what you see? Visit the ' +\n",
              "            '<a target=\"_blank\" href=https://colab.research.google.com/notebooks/data_table.ipynb>data table notebook</a>'\n",
              "            + ' to learn more about interactive tables.';\n",
              "          element.innerHTML = '';\n",
              "          dataTable['output_type'] = 'display_data';\n",
              "          await google.colab.output.renderOutput(dataTable, element);\n",
              "          const docLink = document.createElement('div');\n",
              "          docLink.innerHTML = docLinkHtml;\n",
              "          element.appendChild(docLink);\n",
              "        }\n",
              "      </script>\n",
              "    </div>\n",
              "  </div>\n",
              "  "
            ]
          },
          "metadata": {},
          "execution_count": 34
        }
      ],
      "source": [
        "df[\"newStatus\"] = [\"Open\" if Status==\"Open\" or Status==\"Pending\" else \"Closed\" for Status in df[\"Status\"]]\n",
        "df= df.drop(['Status'], axis=1)\n",
        "df"
      ]
    },
    {
      "cell_type": "code",
      "execution_count": null,
      "metadata": {
        "id": "2E8Qwt7K_TrC"
      },
      "outputs": [],
      "source": [
        ""
      ]
    },
    {
      "cell_type": "markdown",
      "metadata": {
        "id": "tP-31yVY_TrD"
      },
      "source": [
        "### 5. Which state has the maximum complaints"
      ]
    },
    {
      "cell_type": "code",
      "execution_count": 35,
      "metadata": {
        "colab": {
          "base_uri": "https://localhost:8080/"
        },
        "id": "sX9MCsGG_TrD",
        "outputId": "c2b7dc29-d508-423d-c1cf-8ee70092274f"
      },
      "outputs": [
        {
          "output_type": "execute_result",
          "data": {
            "text/plain": [
              "State\n",
              "Georgia       288\n",
              "Florida       240\n",
              "California    220\n",
              "Illinois      164\n",
              "Tennessee     143\n",
              "dtype: int64"
            ]
          },
          "metadata": {},
          "execution_count": 35
        }
      ],
      "source": [
        "df.groupby([\"State\"]).size().sort_values(ascending=False)[:5]"
      ]
    },
    {
      "cell_type": "markdown",
      "metadata": {
        "id": "7s8WNMQs_TrD"
      },
      "source": [
        "##### INSIGHTS:- From the above table, we can clearly see that Georgia has maximum complaints."
      ]
    },
    {
      "cell_type": "code",
      "execution_count": null,
      "metadata": {
        "id": "ot_pZmIF_TrE"
      },
      "outputs": [],
      "source": [
        ""
      ]
    },
    {
      "cell_type": "markdown",
      "metadata": {
        "id": "lT-g5jyf_TrE"
      },
      "source": [
        "### Task-6 Provide state wise status of complaints in a stacked bar chart."
      ]
    },
    {
      "cell_type": "code",
      "execution_count": 36,
      "metadata": {
        "colab": {
          "base_uri": "https://localhost:8080/"
        },
        "id": "vu8DzYp6_TrE",
        "outputId": "cbc0a316-02fb-49f7-9da1-9afef20cef76"
      },
      "outputs": [
        {
          "output_type": "stream",
          "name": "stdout",
          "text": [
            "newStatus             Closed  Open\n",
            "State                             \n",
            "Alabama                 17.0   9.0\n",
            "Arizona                 14.0   6.0\n",
            "Arkansas                 6.0   NaN\n",
            "California             159.0  61.0\n",
            "Colorado                58.0  22.0\n",
            "Connecticut              9.0   3.0\n",
            "Delaware                 8.0   4.0\n",
            "District Of Columbia    14.0   2.0\n",
            "District of Columbia     1.0   NaN\n",
            "Florida                201.0  39.0\n",
            "Georgia                208.0  80.0\n",
            "Illinois               135.0  29.0\n",
            "Indiana                 50.0   9.0\n",
            "Iowa                     1.0   NaN\n",
            "Kansas                   1.0   1.0\n",
            "Kentucky                 4.0   3.0\n",
            "Louisiana               12.0   1.0\n",
            "Maine                    3.0   2.0\n",
            "Maryland                63.0  15.0\n",
            "Massachusetts           50.0  11.0\n",
            "Michigan                92.0  23.0\n",
            "Minnesota               29.0   4.0\n",
            "Mississippi             23.0  16.0\n",
            "Missouri                 3.0   1.0\n",
            "Montana                  1.0   NaN\n",
            "Nevada                   1.0   NaN\n",
            "New Hampshire            8.0   4.0\n",
            "New Jersey              56.0  19.0\n",
            "New Mexico              11.0   4.0\n",
            "New York                 6.0   NaN\n",
            "North Carolina           3.0   NaN\n",
            "Ohio                     3.0   NaN\n",
            "Oregon                  36.0  13.0\n",
            "Pennsylvania           110.0  20.0\n",
            "Rhode Island             1.0   NaN\n",
            "South Carolina          15.0   3.0\n",
            "Tennessee               96.0  47.0\n",
            "Texas                   49.0  22.0\n",
            "Utah                    16.0   6.0\n",
            "Vermont                  2.0   1.0\n",
            "Virginia                49.0  11.0\n",
            "Washington              75.0  23.0\n",
            "West Virginia            8.0   3.0\n"
          ]
        }
      ],
      "source": [
        "Status_complaints = df.groupby([\"State\",\"newStatus\"]).size().unstack()\n",
        "print(Status_complaints)"
      ]
    },
    {
      "cell_type": "code",
      "execution_count": 32,
      "metadata": {
        "colab": {
          "base_uri": "https://localhost:8080/",
          "height": 713
        },
        "id": "eHbwrDd6_TrE",
        "outputId": "2422daec-67b6-45c5-fc25-146b5d28ebc9"
      },
      "outputs": [
        {
          "output_type": "execute_result",
          "data": {
            "text/plain": [
              "<matplotlib.axes._subplots.AxesSubplot at 0x7f957064ec90>"
            ]
          },
          "metadata": {},
          "execution_count": 32
        },
        {
          "output_type": "display_data",
          "data": {
            "text/plain": [
              "<Figure size 720x720 with 1 Axes>"
            ],
            "image/png": "[encoded data removed]"
          },
          "metadata": {
            "needs_background": "light"
          }
        }
      ],
      "source": [
        "Status_complaints.plot.bar(figsize=(10,10), stacked=True)"
      ]
    },
    {
      "cell_type": "markdown",
      "metadata": {
        "id": "7Oh1ylfZ_TrF"
      },
      "source": [
        "##### INSIGHTS:- From the above chart, we can clearly see that Georgia has maximum complaints."
      ]
    },
    {
      "cell_type": "markdown",
      "metadata": {
        "id": "2WPEr7NX_TrF"
      },
      "source": [
        "### Task-7  state which has the highest percentage of unresolved complaints"
      ]
    },
    {
      "cell_type": "code",
      "execution_count": 37,
      "metadata": {
        "colab": {
          "base_uri": "https://localhost:8080/"
        },
        "id": "c-0SxXUM_TrF",
        "outputId": "fbf92698-a510-47a4-9cc9-10cffeadb64c"
      },
      "outputs": [
        {
          "output_type": "stream",
          "name": "stdout",
          "text": [
            "Closed    1707\n",
            "Open       517\n",
            "Name: newStatus, dtype: int64\n"
          ]
        }
      ],
      "source": [
        "print(df['newStatus'].value_counts())"
      ]
    },
    {
      "cell_type": "code",
      "execution_count": 38,
      "metadata": {
        "colab": {
          "base_uri": "https://localhost:8080/",
          "height": 1000
        },
        "id": "cWXTVsjL_TrG",
        "outputId": "bfc8b6da-2593-4695-941d-13b61e8db3ff"
      },
      "outputs": [
        {
          "output_type": "stream",
          "name": "stdout",
          "text": [
            "newStatus             Closed  Open  Unresolved_cmp_prct\n",
            "State                                                  \n",
            "Georgia                208.0  80.0            15.473888\n",
            "California             159.0  61.0            11.798839\n",
            "Tennessee               96.0  47.0             9.090909\n",
            "Florida                201.0  39.0             7.543520\n",
            "Illinois               135.0  29.0             5.609284\n",
            "Washington              75.0  23.0             4.448743\n",
            "Michigan                92.0  23.0             4.448743\n",
            "Colorado                58.0  22.0             4.255319\n",
            "Texas                   49.0  22.0             4.255319\n",
            "Pennsylvania           110.0  20.0             3.868472\n",
            "New Jersey              56.0  19.0             3.675048\n",
            "Mississippi             23.0  16.0             3.094778\n",
            "Maryland                63.0  15.0             2.901354\n",
            "Oregon                  36.0  13.0             2.514507\n",
            "Virginia                49.0  11.0             2.127660\n",
            "Massachusetts           50.0  11.0             2.127660\n",
            "Alabama                 17.0   9.0             1.740812\n",
            "Indiana                 50.0   9.0             1.740812\n",
            "Utah                    16.0   6.0             1.160542\n",
            "Arizona                 14.0   6.0             1.160542\n",
            "New Hampshire            8.0   4.0             0.773694\n",
            "New Mexico              11.0   4.0             0.773694\n",
            "Minnesota               29.0   4.0             0.773694\n",
            "Delaware                 8.0   4.0             0.773694\n",
            "West Virginia            8.0   3.0             0.580271\n",
            "Connecticut              9.0   3.0             0.580271\n",
            "Kentucky                 4.0   3.0             0.580271\n",
            "South Carolina          15.0   3.0             0.580271\n",
            "Maine                    3.0   2.0             0.386847\n",
            "District Of Columbia    14.0   2.0             0.386847\n",
            "Kansas                   1.0   1.0             0.193424\n",
            "Vermont                  2.0   1.0             0.193424\n",
            "Missouri                 3.0   1.0             0.193424\n",
            "Louisiana               12.0   1.0             0.193424\n",
            "Montana                  1.0   0.0             0.000000\n",
            "Rhode Island             1.0   0.0             0.000000\n",
            "Ohio                     3.0   0.0             0.000000\n",
            "District of Columbia     1.0   0.0             0.000000\n",
            "North Carolina           3.0   0.0             0.000000\n",
            "New York                 6.0   0.0             0.000000\n",
            "Nevada                   1.0   0.0             0.000000\n",
            "Arkansas                 6.0   0.0             0.000000\n",
            "Iowa                     1.0   0.0             0.000000\n"
          ]
        },
        {
          "output_type": "execute_result",
          "data": {
            "text/plain": [
              "<matplotlib.axes._subplots.AxesSubplot at 0x7f8decbf61d0>"
            ]
          },
          "metadata": {},
          "execution_count": 38
        },
        {
          "output_type": "display_data",
          "data": {
            "text/plain": [
              "<Figure size 432x288 with 1 Axes>"
            ],
            "image/png": "[encoded data removed]"
          },
          "metadata": {}
        }
      ],
      "source": [
        "unresolved_data = df.groupby([\"State\",'newStatus']).size().unstack().fillna(0).sort_values(by='Open',ascending=False)\n",
        "unresolved_data['Unresolved_cmp_prct'] = unresolved_data['Open']/unresolved_data['Open'].sum()*100\n",
        "print(unresolved_data)\n",
        "unresolved_data.plot()"
      ]
    },
    {
      "cell_type": "markdown",
      "metadata": {
        "id": "WPNN6Fgp_TrG"
      },
      "source": [
        "##### INSIGHTS:- From the table generated above we can see that Georgia has maximum unresolved complaints i.e. 80."
      ]
    },
    {
      "cell_type": "markdown",
      "metadata": {
        "id": "DXsTp99z_TrH"
      },
      "source": [
        "### Task-8 Provide the percentage of complaints resolved till date, which were received through the Internet and customer care calls"
      ]
    },
    {
      "cell_type": "code",
      "execution_count": 39,
      "metadata": {
        "colab": {
          "base_uri": "https://localhost:8080/"
        },
        "id": "ihTeWxRp_TrH",
        "outputId": "c737de03-dc7d-4b1b-8762-8c8d14711b8d"
      },
      "outputs": [
        {
          "output_type": "execute_result",
          "data": {
            "text/plain": [
              "Received Via\n",
              "Customer Care Call    50.615114\n",
              "Internet              49.384886\n",
              "Name: resolved, dtype: float64"
            ]
          },
          "metadata": {},
          "execution_count": 39
        }
      ],
      "source": [
        "resolved_data = df.groupby(['Received Via','newStatus']).size().unstack().fillna(0)\n",
        "resolved_data['resolved'] = resolved_data['Closed']/resolved_data['Closed'].sum()*100\n",
        "resolved_data['resolved']"
      ]
    },
    {
      "cell_type": "code",
      "execution_count": 40,
      "metadata": {
        "colab": {
          "base_uri": "https://localhost:8080/",
          "height": 600
        },
        "id": "xzln79mJ_TrH",
        "outputId": "ebcf1970-eba8-4e61-c36b-3513a5ba7cc9"
      },
      "outputs": [
        {
          "output_type": "execute_result",
          "data": {
            "text/plain": [
              "<matplotlib.axes._subplots.AxesSubplot at 0x7f8decb5a350>"
            ]
          },
          "metadata": {},
          "execution_count": 40
        },
        {
          "output_type": "display_data",
          "data": {
            "text/plain": [
              "<Figure size 576x576 with 1 Axes>"
            ],
            "image/png": "[encoded data removed]"
          },
          "metadata": {}
        }
      ],
      "source": [
        "resolved_data.plot(kind=\"bar\", figsize=(8,8))"
      ]
    },
    {
      "cell_type": "markdown",
      "metadata": {
        "id": "mD4tld2l_TrI"
      },
      "source": [
        "##### INSIGHTS:- From the above pie chart we can clearly see that there are total 50.61% Complaints resolved for Customer Care Call and 49.39% for received via internet.\n"
      ]
    }
  ],
  "metadata": {
    "kernelspec": {
      "display_name": "Python 3",
      "language": "python",
      "name": "python3"
    },
    "language_info": {
      "codemirror_mode": {
        "name": "ipython",
        "version": 3
      },
      "file_extension": ".py",
      "mimetype": "text/x-python",
      "name": "python",
      "nbconvert_exporter": "python",
      "pygments_lexer": "ipython3",
      "version": "3.8.5"
    },
    "colab": {
      "name": "Comcast_Telcomm_complaints.ipynb",
      "provenance": []
    }
  },
  "nbformat": 4,
  "nbformat_minor": 0
}