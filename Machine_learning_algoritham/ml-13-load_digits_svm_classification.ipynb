{
 "cells": [
  {
   "cell_type": "markdown",
   "id": "a7dee57c-a3d8-4f3e-aba8-6fefa1428d64",
   "metadata": {},
   "source": [
    "#### Exercise\n",
    "Train SVM classifier using sklearn digits dataset(i.e. from sklearn.datasets import load_digits) and then,\n",
    "1. Measure accuracy of your model using different kernels such as rbf and linear.\n",
    "2. Tune your model further using regularization and gamma parameters and try to come up with highest accuracy score.\n",
    "3. Use 80% of samples as training data size"
   ]
  },
  {
   "cell_type": "code",
   "execution_count": null,
   "id": "fc233cd1-e68c-43d6-a53e-c2257cf91906",
   "metadata": {},
   "outputs": [],
   "source": []
  }
 ],
 "metadata": {
  "kernelspec": {
   "display_name": "Python 3 (ipykernel)",
   "language": "python",
   "name": "python3"
  },
  "language_info": {
   "codemirror_mode": {
    "name": "ipython",
    "version": 3
   },
   "file_extension": ".py",
   "mimetype": "text/x-python",
   "name": "python",
   "nbconvert_exporter": "python",
   "pygments_lexer": "ipython3",
   "version": "3.10.6"
  }
 },
 "nbformat": 4,
 "nbformat_minor": 5
}
